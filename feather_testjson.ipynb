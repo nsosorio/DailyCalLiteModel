{
 "cells": [
  {
   "cell_type": "code",
   "execution_count": 9,
   "metadata": {},
   "outputs": [
    {
     "name": "stderr",
     "output_type": "stream",
     "text": [
      "/Users/nsosorio/anaconda3/lib/python3.7/site-packages/ipykernel_launcher.py:2: ModelDocumentWarning: Missing \"minimum_version\" item in metadata.\n",
      "  \n"
     ]
    },
    {
     "ename": "KeyError",
     "evalue": "'dataframe'",
     "output_type": "error",
     "traceback": [
      "\u001b[0;31m---------------------------------------------------------------------------\u001b[0m",
      "\u001b[0;31mKeyError\u001b[0m                                  Traceback (most recent call last)",
      "\u001b[0;32mpywr/_model.pyx\u001b[0m in \u001b[0;36mpywr._model.Model._get_node_from_ref\u001b[0;34m()\u001b[0m\n",
      "\u001b[0;32mpywr/_model.pyx\u001b[0m in \u001b[0;36mpywr._model.NodeIterator.__getitem__\u001b[0;34m()\u001b[0m\n",
      "\u001b[0;31mKeyError\u001b[0m: \"'I_OROVL'\"",
      "\nDuring handling of the above exception, another exception occurred:\n",
      "\u001b[0;31mKeyError\u001b[0m                                  Traceback (most recent call last)",
      "\u001b[0;32m<ipython-input-9-b0a19e8993ce>\u001b[0m in \u001b[0;36m<module>\u001b[0;34m\u001b[0m\n\u001b[1;32m      1\u001b[0m \u001b[0;32mfrom\u001b[0m \u001b[0mpywr\u001b[0m\u001b[0;34m.\u001b[0m\u001b[0mmodel\u001b[0m \u001b[0;32mimport\u001b[0m \u001b[0mModel\u001b[0m\u001b[0;34m\u001b[0m\u001b[0;34m\u001b[0m\u001b[0m\n\u001b[0;32m----> 2\u001b[0;31m \u001b[0mmy_model\u001b[0m \u001b[0;34m=\u001b[0m \u001b[0mModel\u001b[0m\u001b[0;34m.\u001b[0m\u001b[0mload\u001b[0m\u001b[0;34m(\u001b[0m\u001b[0;34m'module1_oro.json'\u001b[0m\u001b[0;34m)\u001b[0m\u001b[0;34m\u001b[0m\u001b[0;34m\u001b[0m\u001b[0m\n\u001b[0m\u001b[1;32m      3\u001b[0m \u001b[0mmy_model\u001b[0m\u001b[0;34m.\u001b[0m\u001b[0mrun\u001b[0m\u001b[0;34m(\u001b[0m\u001b[0;34m)\u001b[0m\u001b[0;34m\u001b[0m\u001b[0;34m\u001b[0m\u001b[0m\n",
      "\u001b[0;32mpywr/_model.pyx\u001b[0m in \u001b[0;36mpywr._model.Model.load\u001b[0;34m()\u001b[0m\n",
      "\u001b[0;32mpywr/_model.pyx\u001b[0m in \u001b[0;36mpywr._model.Model.loads\u001b[0;34m()\u001b[0m\n",
      "\u001b[0;32mpywr/_model.pyx\u001b[0m in \u001b[0;36mpywr._model.Model.load\u001b[0;34m()\u001b[0m\n",
      "\u001b[0;32mpywr/_model.pyx\u001b[0m in \u001b[0;36mpywr._model.Model._get_node_from_ref\u001b[0;34m()\u001b[0m\n",
      "\u001b[0;31mKeyError\u001b[0m: 'dataframe'"
     ]
    }
   ],
   "source": [
    "from pywr.model import Model\n",
    "my_model = Model.load('module1_oro.json')\n",
    "my_model.run()"
   ]
  },
  {
   "cell_type": "code",
   "execution_count": null,
   "metadata": {},
   "outputs": [],
   "source": []
  }
 ],
 "metadata": {
  "kernelspec": {
   "display_name": "Python 3",
   "language": "python",
   "name": "python3"
  },
  "language_info": {
   "codemirror_mode": {
    "name": "ipython",
    "version": 3
   },
   "file_extension": ".py",
   "mimetype": "text/x-python",
   "name": "python",
   "nbconvert_exporter": "python",
   "pygments_lexer": "ipython3",
   "version": "3.7.4"
  }
 },
 "nbformat": 4,
 "nbformat_minor": 2
}
